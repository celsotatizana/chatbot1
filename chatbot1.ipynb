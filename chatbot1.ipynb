{
  "nbformat": 4,
  "nbformat_minor": 0,
  "metadata": {
    "colab": {
      "provenance": [],
      "authorship_tag": "ABX9TyONYaAHOOOl+N6XF7drXY8F",
      "include_colab_link": true
    },
    "kernelspec": {
      "name": "python3",
      "display_name": "Python 3"
    },
    "language_info": {
      "name": "python"
    }
  },
  "cells": [
    {
      "cell_type": "markdown",
      "metadata": {
        "id": "view-in-github",
        "colab_type": "text"
      },
      "source": [
        "<a href=\"https://colab.research.google.com/github/celsotatizana/chatbot1/blob/main/chatbot1.ipynb\" target=\"_parent\"><img src=\"https://colab.research.google.com/assets/colab-badge.svg\" alt=\"Open In Colab\"/></a>"
      ]
    },
    {
      "cell_type": "code",
      "execution_count": 19,
      "metadata": {
        "id": "0kjXvOIPwpTm"
      },
      "outputs": [],
      "source": [
        "!pip install -q -U google-generativeai\n"
      ]
    },
    {
      "cell_type": "code",
      "source": [
        "import google.generativeai as genai\n",
        "from google.colab import userdata\n",
        "api_key=userdata.get(\"SECRET_KEY\")\n",
        "GOOGLE_API_KEY=api_key\n",
        "genai.configure(api_key=GOOGLE_API_KEY)"
      ],
      "metadata": {
        "id": "9KxFCbU83x68"
      },
      "execution_count": 20,
      "outputs": []
    },
    {
      "cell_type": "code",
      "source": [
        "for m in genai.list_models():\n",
        "  if 'generateContent' in m.supported_generation_methods:\n",
        "    print(m.name)"
      ],
      "metadata": {
        "colab": {
          "base_uri": "https://localhost:8080/",
          "height": 139
        },
        "id": "DqQhqksY51U7",
        "outputId": "067aa07e-a58d-4b7d-ab45-04d8604963f9"
      },
      "execution_count": 21,
      "outputs": [
        {
          "output_type": "stream",
          "name": "stdout",
          "text": [
            "models/gemini-1.0-pro\n",
            "models/gemini-1.0-pro-001\n",
            "models/gemini-1.0-pro-latest\n",
            "models/gemini-1.0-pro-vision-latest\n",
            "models/gemini-1.5-pro-latest\n",
            "models/gemini-pro\n",
            "models/gemini-pro-vision\n"
          ]
        }
      ]
    },
    {
      "cell_type": "code",
      "source": [
        "generation_config={\n",
        "    \"candidate_count\": 1,\n",
        "    \"temperature\": 0.5,\n",
        "\n",
        "}"
      ],
      "metadata": {
        "id": "OafcMYNX8iXj"
      },
      "execution_count": 22,
      "outputs": []
    },
    {
      "cell_type": "code",
      "source": [
        "safety_settings={\n",
        "    \"HARASSMENT\":\"BLOCK_NONE\",\n",
        "    \"HATE\":\"BLOCK_NONE\",\n",
        "    \"SEXUAL\":\"BLOCK_NONE\",\n",
        "    \"DANGEROUS\":\"BLOCK_NONE\",\n",
        "}"
      ],
      "metadata": {
        "id": "-DLhb6eP9Ck6"
      },
      "execution_count": 23,
      "outputs": []
    },
    {
      "cell_type": "code",
      "source": [
        "model = genai.GenerativeModel(model_name=\"models/gemini-1.0-pro\", generation_config=generation_config, safety_settings=safety_settings)"
      ],
      "metadata": {
        "id": "WGTHQpn5b53q"
      },
      "execution_count": 24,
      "outputs": []
    },
    {
      "cell_type": "code",
      "source": [
        "resposta=model.generate_content(\"Faça um resumo sobre fotossíntese\")\n",
        "print(resposta.text)"
      ],
      "metadata": {
        "colab": {
          "base_uri": "https://localhost:8080/",
          "height": 454
        },
        "id": "pgEiice9e4qN",
        "outputId": "7db18aa3-3e4e-4d77-c059-515bf76fec66"
      },
      "execution_count": 15,
      "outputs": [
        {
          "output_type": "stream",
          "name": "stdout",
          "text": [
            "**Fotossíntese**\n",
            "\n",
            "A fotossíntese é um processo bioquímico realizado por plantas, algas e algumas bactérias, no qual a energia da luz solar é convertida em energia química armazenada em moléculas de glicose.\n",
            "\n",
            "**Etapas:**\n",
            "\n",
            "* **Reações dependentes da luz:**\n",
            "    * Ocorre nos tilacoides dos cloroplastos.\n",
            "    * A luz solar é absorvida pela clorofila e convertida em energia química (ATP e NADPH).\n",
            "    * A água é dividida, liberando oxigênio como subproduto.\n",
            "* **Reações independentes da luz (Ciclo de Calvin):**\n",
            "    * Ocorre no estroma dos cloroplastos.\n",
            "    * O ATP e o NADPH das reações dependentes da luz fornecem energia para fixar o dióxido de carbono da atmosfera em glicose.\n",
            "\n",
            "**Equação Geral:**\n",
            "\n",
            "6CO₂ + 6H₂O + luz solar → C₆H₁₂O₆ + 6O₂\n",
            "\n",
            "**Importância:**\n",
            "\n",
            "* **Produção de alimentos:** A fotossíntese é a base da cadeia alimentar, fornecendo alimento para todos os organismos vivos.\n",
            "* **Liberação de oxigênio:** A fotossíntese libera oxigênio na atmosfera, essencial para a respiração.\n",
            "* **Remoção de dióxido de carbono:** A fotossíntese remove o dióxido de carbono da atmosfera, ajudando a regular o clima.\n",
            "* **Armazenamento de energia:** A glicose produzida pela fotossíntese é uma fonte de energia para as plantas e outros organismos.\n"
          ]
        }
      ]
    },
    {
      "cell_type": "code",
      "source": [
        "chat=model.start_chat(history=[])\n",
        "prompt=input(\"Esperando prompt:\")\n",
        "while prompt !=\"fim\":\n",
        "  resposta=chat.send_message(prompt)\n",
        "  print (\"Resposta: \",resposta.text, \"/n\")\n",
        "  prompt=input(\"Esperando prompt:\")"
      ],
      "metadata": {
        "colab": {
          "base_uri": "https://localhost:8080/",
          "height": 471
        },
        "id": "wDrlTOUtgvn6",
        "outputId": "ab87211a-88ad-4318-da72-3fb98276c73a"
      },
      "execution_count": 25,
      "outputs": [
        {
          "name": "stdout",
          "output_type": "stream",
          "text": [
            "Esperando prompt:Qual é o melhor enxadrista do mundo e do brasil\n",
            "Resposta:  **Melhor Enxadrista do Mundo:**\n",
            "\n",
            "* Magnus Carlsen (Noruega)\n",
            "\n",
            "**Melhor Enxadrista do Brasil:**\n",
            "\n",
            "* Rafael Leitão /n\n",
            "Esperando prompt:Justifique as respostas\n",
            "Resposta:  **Magnus Carlsen (Noruega) é o melhor enxadrista do mundo por vários motivos:**\n",
            "\n",
            "* **Domínio prolongado:** Carlsen detém o título de Campeão Mundial de Xadrez desde 2013, o que é o reinado mais longo na história do xadrez moderno.\n",
            "* **Elo mais alto:** Carlsen tem o elo mais alto da história do xadrez, 2882, que ele alcançou em 2014.\n",
            "* **Desempenho consistente:** Carlsen tem sido consistentemente o melhor jogador do mundo nos últimos anos, vencendo vários torneios de elite e mantendo uma alta porcentagem de vitórias.\n",
            "* **Estilo versátil:** Carlsen é conhecido por seu estilo versátil, capaz de jogar agressivamente ou defensivamente, dependendo da posição.\n",
            "* **Preparação excepcional:** Carlsen é conhecido por sua preparação meticulosa para as partidas, o que lhe dá uma vantagem sobre seus oponentes.\n",
            "\n",
            "**Rafael Leitão é o melhor enxadrista do Brasil por vários motivos:**\n",
            "\n",
            "* **Elo mais alto:** Leitão tem o elo mais alto entre os enxadristas brasileiros, 2650.\n",
            "* **Campeão brasileiro:** Leitão venceu o Campeonato Brasileiro de Xadrez por oito vezes, mais do que qualquer outro jogador.\n",
            "* **Desempenho internacional:** Leitão tem se destacado em torneios internacionais, vencendo vários torneios de elite e representando o Brasil em Olimpíadas de Xadrez.\n",
            "* **Estilo agressivo:** Leitão é conhecido por seu estilo agressivo e tático, que lhe rendeu muitas vitórias memoráveis.\n",
            "* **Promoção do xadrez:** Leitão é um forte defensor do xadrez no Brasil, promovendo o jogo por meio de aulas, palestras e eventos. /n\n",
            "Esperando prompt:fim\n"
          ]
        }
      ]
    }
  ]
}